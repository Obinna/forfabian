{
 "cells": [
  {
   "cell_type": "markdown",
   "metadata": {},
   "source": [
    "## Model for the ring vortex\n",
    "\n",
    "We use a Lamb-Oseen vortex model for the circumverential velocity $u_\\omega$ of the torus with its center located at on a ring through $(r_0,z_0)$\n",
    "\n",
    "$$u_\\omega=\\frac{\\Gamma}{2 \\pi R}\\left[1-e^{-\\left(\\frac{R}{R_0}\\right)^2}\\right]\\tag{4}\\quad,$$\n",
    "\n",
    "where $\\Gamma$ is the circulation, $R_0$ a characteristic radius of the vortex core, and $R^2=(r-r_0)^2+(z-z_0)^2$.\n",
    "\n",
    "This inital condition has been used by [Orlando and Verzicco (1993)](papers/orlandi1993.pdf) for studying the impact of a vortex rings imgining onto a rigid wall. Here in contrast  we'll look at small vortex rings created near a boundary with higher velocities. \n",
    "\n",
    "## Initial Condition\n",
    "As an example we use as intial condition a circulation of $\\Gamma=\\pm0.1\\,$1/s, a vortex core radius of $R_0=500\\,\\mu$m, and the vortex is located at $(r_0,z_0)=(2,5)\\,$mm from the boundary which is at $z=0$. The Navier Stokes equation are solved.\n",
    "\n",
    "Please note that the initial condition close to the boundary are not physical, as it would generate a fast flow onto the boundary. The solver prevents this by imposing a high-pressure on the boundary to resist this flow. Thus the pressure distribution for the very early time on the boundary is an artifact.\n",
    "\n",
    "## Simulation\n",
    "\n",
    "The simulation domain is shown in [Fig. 1](#figure1). The right boundary is the axis of symmetry, the lower boundary a rigid wall, and the two remaining boundaries open boundaries for the flow.  The equations are solved with a finite element solver (COMSOL Multiphysics). The grid is refined in the boundary layer.\n",
    "\n",
    "<a id=\"figure1\"></a>\n",
    "<img src=\"neg_gamma.gif\" width=\"640\">\n",
    "<center>\n",
    "Figure 1: Vortex motion with a negative circulation. $0\\,\\le\\,t\\,\\le\\,600\\,\\mu$s,  $\\Gamma=$-10^{-3}\\,$s$^{-1}$, $(r_0,z_0)$=(80,180)\\,\\mu$m, and $R_0=60\\,\\mu$m.\n",
    "</center>\n",
    "\n",
    "<a id=\"figure2\"></a>\n",
    "<img src=\"pos_gamma.gif\" width=\"640\">\n",
    "<center>\n",
    "Figure 2: Vortex motion with a positive circulation. $0\\,\\le\\,t\\,\\le\\,4000\\,\\mu$s,  $\\Gamma=$0.5^{-3}\\,$s$^{-1}$, $(r_0,z_0)$=(300,60)\\,\\mu$m, and $R_0=60\\,\\mu$m.\n",
    "</center>\n"
   ]
  },
  {
   "cell_type": "code",
   "execution_count": null,
   "metadata": {
    "collapsed": true
   },
   "outputs": [],
   "source": []
  }
 ],
 "metadata": {
  "kernelspec": {
   "display_name": "Python 2",
   "language": "python",
   "name": "python2"
  },
  "language_info": {
   "codemirror_mode": {
    "name": "ipython",
    "version": 2
   },
   "file_extension": ".py",
   "mimetype": "text/x-python",
   "name": "python",
   "nbconvert_exporter": "python",
   "pygments_lexer": "ipython2",
   "version": "2.7.11"
  }
 },
 "nbformat": 4,
 "nbformat_minor": 0
}
